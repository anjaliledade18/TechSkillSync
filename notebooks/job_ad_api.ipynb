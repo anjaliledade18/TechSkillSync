{
 "cells": [
  {
   "cell_type": "code",
   "execution_count": 1,
   "metadata": {},
   "outputs": [],
   "source": [
    "import requests\n",
    "\n"
   ]
  },
  {
   "cell_type": "code",
   "execution_count": 2,
   "metadata": {},
   "outputs": [],
   "source": [
    "# Replace these with your Adzuna credentials\n",
    "APP_ID = '7b9c1c38'\n",
    "APP_KEY = 'ff185f03d8911f04c567b500bbbaa741'\n"
   ]
  },
  {
   "cell_type": "code",
   "execution_count": null,
   "metadata": {},
   "outputs": [],
   "source": [
    "def search_adzuna_jobs(keyword, location, results_per_page=10):\n",
    "    country = 'au'  # Use 'gb' for UK, 'us' for USA, etc.\n",
    "    base_url = f'https://api.adzuna.com/v1/api/jobs/{country}/search/1'\n",
    "\n",
    "    params = {\n",
    "        'app_id': APP_ID,\n",
    "        'app_key': APP_KEY,\n",
    "        'results_per_page': results_per_page,\n",
    "        'what': keyword,\n",
    "        'where': location,\n",
    "        'content-type': 'application/json'\n",
    "    }\n",
    "\n",
    "    response = requests.get(base_url, params=params)\n",
    "    if response.status_code == 200:\n",
    "        jobs = response.json().get('results', [])\n",
    "        for job in jobs:\n",
    "            print(f\"🧑‍💼 Title: {job.get('title')}\")\n",
    "            print(f\"🏢 Company: {job.get('company', {}).get('display_name')}\")\n",
    "            print(f\"📍 Location: {job.get('location', {}).get('display_name')}\")\n",
    "            print(f\"🔗 Link: {job.get('redirect_url')}\")\n",
    "            print(\"-\" * 40)\n",
    "    else:\n",
    "        print(\"Failed to fetch jobs:\", response.status_code, response.text)\n",
    "\n",
    "\n",
    "\n"
   ]
  },
  {
   "cell_type": "code",
   "execution_count": 4,
   "metadata": {},
   "outputs": [
    {
     "name": "stdout",
     "output_type": "stream",
     "text": [
      "🧑‍💼 Title: Data Analyst\n",
      "🏢 Company: NXTGIG\n",
      "📍 Location: The Rocks, Sydney\n",
      "🔗 Link: https://www.adzuna.com.au/details/5104895464?utm_medium=api&utm_source=7b9c1c38\n",
      "----------------------------------------\n",
      "🧑‍💼 Title: Data Analyst\n",
      "🏢 Company: Luxury Escapes\n",
      "📍 Location: The Rocks, Sydney\n",
      "🔗 Link: https://www.adzuna.com.au/details/5090362334?utm_medium=api&utm_source=7b9c1c38\n",
      "----------------------------------------\n",
      "🧑‍💼 Title: Data Analyst\n",
      "🏢 Company: Pope Recruitment Pty\n",
      "📍 Location: Sydney, Sydney Region\n",
      "🔗 Link: https://www.adzuna.com.au/details/5088752028?utm_medium=api&utm_source=7b9c1c38\n",
      "----------------------------------------\n",
      "🧑‍💼 Title: Data Analyst\n",
      "🏢 Company: Brainlabs\n",
      "📍 Location: Sydney, Sydney Region\n",
      "🔗 Link: https://www.adzuna.com.au/details/5087026697?utm_medium=api&utm_source=7b9c1c38\n",
      "----------------------------------------\n",
      "🧑‍💼 Title: Data Analyst\n",
      "🏢 Company: Infomedia\n",
      "📍 Location: Sydney, Sydney Region\n",
      "🔗 Link: https://www.adzuna.com.au/details/5035046551?utm_medium=api&utm_source=7b9c1c38\n",
      "----------------------------------------\n",
      "🧑‍💼 Title: Data Analyst\n",
      "🏢 Company: Hapana\n",
      "📍 Location: The Rocks, Sydney\n",
      "🔗 Link: https://www.adzuna.com.au/details/5109804223?utm_medium=api&utm_source=7b9c1c38\n",
      "----------------------------------------\n",
      "🧑‍💼 Title: Data Analyst\n",
      "🏢 Company: Investa\n",
      "📍 Location: The Rocks, Sydney\n",
      "🔗 Link: https://www.adzuna.com.au/details/5088740942?utm_medium=api&utm_source=7b9c1c38\n",
      "----------------------------------------\n",
      "🧑‍💼 Title: Senior Data Analyst\n",
      "🏢 Company: Mane Consulting\n",
      "📍 Location: Sydney, Sydney Region\n",
      "🔗 Link: https://www.adzuna.com.au/details/5064307900?utm_medium=api&utm_source=7b9c1c38\n",
      "----------------------------------------\n",
      "🧑‍💼 Title: Marketing Data Analyst\n",
      "🏢 Company: Zone IT Solutions\n",
      "📍 Location: The Rocks, Sydney\n",
      "🔗 Link: https://www.adzuna.com.au/details/5054964808?utm_medium=api&utm_source=7b9c1c38\n",
      "----------------------------------------\n",
      "🧑‍💼 Title: Data Analyst (Intern)\n",
      "🏢 Company: Transvirtual\n",
      "📍 Location: The Rocks, Sydney\n",
      "🔗 Link: https://www.adzuna.com.au/details/5018924215?utm_medium=api&utm_source=7b9c1c38\n",
      "----------------------------------------\n"
     ]
    }
   ],
   "source": [
    "# Example usage\n",
    "search_adzuna_jobs(keyword=\"data analyst\", location=\"Sydney\")\n"
   ]
  },
  {
   "cell_type": "code",
   "execution_count": null,
   "metadata": {},
   "outputs": [],
   "source": []
  }
 ],
 "metadata": {
  "kernelspec": {
   "display_name": "Python 3",
   "language": "python",
   "name": "python3"
  },
  "language_info": {
   "codemirror_mode": {
    "name": "ipython",
    "version": 3
   },
   "file_extension": ".py",
   "mimetype": "text/x-python",
   "name": "python",
   "nbconvert_exporter": "python",
   "pygments_lexer": "ipython3",
   "version": "3.10.4"
  }
 },
 "nbformat": 4,
 "nbformat_minor": 2
}
